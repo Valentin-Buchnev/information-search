{
 "cells": [
  {
   "cell_type": "code",
   "execution_count": 1,
   "metadata": {},
   "outputs": [],
   "source": [
    "import numpy as np\n",
    "import pandas as pd\n",
    "from tqdm import tqdm_notebook\n",
    "\n",
    "import fasttext\n",
    "\n",
    "from matplotlib import pyplot as plt"
   ]
  },
  {
   "cell_type": "code",
   "execution_count": 2,
   "metadata": {},
   "outputs": [],
   "source": [
    "train_data = pd.read_csv('names_and_rubrics_learn.tsv', sep='\\t', names=['name', 'category'])"
   ]
  },
  {
   "cell_type": "code",
   "execution_count": 3,
   "metadata": {},
   "outputs": [
    {
     "data": {
      "text/html": [
       "<div>\n",
       "<style scoped>\n",
       "    .dataframe tbody tr th:only-of-type {\n",
       "        vertical-align: middle;\n",
       "    }\n",
       "\n",
       "    .dataframe tbody tr th {\n",
       "        vertical-align: top;\n",
       "    }\n",
       "\n",
       "    .dataframe thead th {\n",
       "        text-align: right;\n",
       "    }\n",
       "</style>\n",
       "<table border=\"1\" class=\"dataframe\">\n",
       "  <thead>\n",
       "    <tr style=\"text-align: right;\">\n",
       "      <th></th>\n",
       "      <th>name</th>\n",
       "      <th>category</th>\n",
       "    </tr>\n",
       "  </thead>\n",
       "  <tbody>\n",
       "    <tr>\n",
       "      <td>0</td>\n",
       "      <td>Автобусная компания Транспорт52</td>\n",
       "      <td>Автобусные междугородные перевозки</td>\n",
       "    </tr>\n",
       "    <tr>\n",
       "      <td>1</td>\n",
       "      <td>Мастерок</td>\n",
       "      <td>Строительный магазин</td>\n",
       "    </tr>\n",
       "    <tr>\n",
       "      <td>2</td>\n",
       "      <td>Суши-бар</td>\n",
       "      <td>Суши-бар</td>\n",
       "    </tr>\n",
       "    <tr>\n",
       "      <td>3</td>\n",
       "      <td>Экспром</td>\n",
       "      <td>Металлоизделия</td>\n",
       "    </tr>\n",
       "    <tr>\n",
       "      <td>4</td>\n",
       "      <td>Универсам Бегемот</td>\n",
       "      <td>Супермаркет</td>\n",
       "    </tr>\n",
       "  </tbody>\n",
       "</table>\n",
       "</div>"
      ],
      "text/plain": [
       "                              name                            category\n",
       "0  Автобусная компания Транспорт52  Автобусные междугородные перевозки\n",
       "1                         Мастерок                Строительный магазин\n",
       "2                         Суши-бар                            Суши-бар\n",
       "3                          Экспром                      Металлоизделия\n",
       "4                Универсам Бегемот                         Супермаркет"
      ]
     },
     "execution_count": 3,
     "metadata": {},
     "output_type": "execute_result"
    }
   ],
   "source": [
    "train_data.head()"
   ]
  },
  {
   "cell_type": "code",
   "execution_count": 4,
   "metadata": {},
   "outputs": [],
   "source": [
    "train_X = np.asarray(train_data['name'])\n",
    "train_y = np.asarray(train_data['category'])"
   ]
  },
  {
   "cell_type": "markdown",
   "metadata": {},
   "source": [
    "---\n",
    "###### Преобразуем целевую переменную в число"
   ]
  },
  {
   "cell_type": "code",
   "execution_count": 5,
   "metadata": {},
   "outputs": [],
   "source": [
    "categories = np.unique(train_y)\n",
    "\n",
    "cnt = 0\n",
    "cat_id = {}\n",
    "for c in categories:\n",
    "    cat_id[c] = cnt\n",
    "    cnt += 1\n",
    "    \n",
    "train_y = np.array(list(map(lambda x: cat_id[x], train_y)))"
   ]
  },
  {
   "cell_type": "markdown",
   "metadata": {},
   "source": [
    "---\n",
    "###### Запишем все слова в файл"
   ]
  },
  {
   "cell_type": "code",
   "execution_count": 5,
   "metadata": {},
   "outputs": [
    {
     "data": {
      "application/vnd.jupyter.widget-view+json": {
       "model_id": "c091032ee70e4a589a5510fe96ac51d9",
       "version_major": 2,
       "version_minor": 0
      },
      "text/plain": [
       "HBox(children=(IntProgress(value=0, max=8908449), HTML(value='')))"
      ]
     },
     "metadata": {},
     "output_type": "display_data"
    },
    {
     "name": "stdout",
     "output_type": "stream",
     "text": [
      "\n"
     ]
    },
    {
     "data": {
      "application/vnd.jupyter.widget-view+json": {
       "model_id": "f5f557262b8c410b9df721c9abd38027",
       "version_major": 2,
       "version_minor": 0
      },
      "text/plain": [
       "HBox(children=(IntProgress(value=0, max=8908449), HTML(value='')))"
      ]
     },
     "metadata": {},
     "output_type": "display_data"
    },
    {
     "name": "stdout",
     "output_type": "stream",
     "text": [
      "\n"
     ]
    }
   ],
   "source": [
    "words_name = [c for t in tqdm_notebook(list(train_X)) for c in t.split(' ')]\n",
    "words_category = [c for t in tqdm_notebook(list(train_y)) for c in t.split(' ')]"
   ]
  },
  {
   "cell_type": "code",
   "execution_count": 10,
   "metadata": {},
   "outputs": [
    {
     "data": {
      "text/plain": [
       "354107087"
      ]
     },
     "execution_count": 10,
     "metadata": {},
     "output_type": "execute_result"
    }
   ],
   "source": [
    "open('words.txt', 'w').write(' '.join(words_name + words_category))"
   ]
  },
  {
   "cell_type": "markdown",
   "metadata": {},
   "source": [
    "---\n",
    "###### Преобразуем названия организаций в эмбеддинг"
   ]
  },
  {
   "cell_type": "code",
   "execution_count": 6,
   "metadata": {},
   "outputs": [
    {
     "name": "stdout",
     "output_type": "stream",
     "text": [
      "CPU times: user 2h 15min 11s, sys: 18.9 s, total: 2h 15min 30s\n",
      "Wall time: 46min 30s\n"
     ]
    }
   ],
   "source": [
    "%%time\n",
    "\n",
    "model = fasttext.train_unsupervised('words.txt', ws=1, dim=100, epoch=30)"
   ]
  },
  {
   "cell_type": "code",
   "execution_count": null,
   "metadata": {},
   "outputs": [],
   "source": [
    "model.save_model('model_embedding')"
   ]
  },
  {
   "cell_type": "code",
   "execution_count": 6,
   "metadata": {},
   "outputs": [
    {
     "name": "stderr",
     "output_type": "stream",
     "text": [
      "\n"
     ]
    }
   ],
   "source": [
    "model = fasttext.load_model('model_embedding')"
   ]
  },
  {
   "cell_type": "code",
   "execution_count": 7,
   "metadata": {},
   "outputs": [
    {
     "name": "stdout",
     "output_type": "stream",
     "text": [
      "CPU times: user 5min 23s, sys: 3.09 s, total: 5min 26s\n",
      "Wall time: 5min 26s\n"
     ]
    }
   ],
   "source": [
    "%%time\n",
    "train_X = np.array([np.mean([model[w] for w in s.split(' ')], axis=0) for s in train_X])"
   ]
  },
  {
   "cell_type": "markdown",
   "metadata": {},
   "source": [
    "---\n",
    "###### Обучим классификатор"
   ]
  },
  {
   "cell_type": "code",
   "execution_count": 8,
   "metadata": {},
   "outputs": [
    {
     "name": "stdout",
     "output_type": "stream",
     "text": [
      "CPU times: user 2h 43min 27s, sys: 8min 56s, total: 2h 52min 23s\n",
      "Wall time: 45min 52s\n"
     ]
    },
    {
     "name": "stderr",
     "output_type": "stream",
     "text": [
      "/home/coder/anaconda3/lib/python3.7/site-packages/sklearn/neural_network/multilayer_perceptron.py:566: ConvergenceWarning: Stochastic Optimizer: Maximum iterations (200) reached and the optimization hasn't converged yet.\n",
      "  % self.max_iter, ConvergenceWarning)\n"
     ]
    },
    {
     "data": {
      "text/plain": [
       "MLPClassifier(activation='tanh', alpha=0.0001, batch_size='auto', beta_1=0.9,\n",
       "              beta_2=0.999, early_stopping=False, epsilon=1e-08,\n",
       "              hidden_layer_sizes=(20, 20), learning_rate='constant',\n",
       "              learning_rate_init=0.001, max_iter=200, momentum=0.9,\n",
       "              n_iter_no_change=10, nesterovs_momentum=True, power_t=0.5,\n",
       "              random_state=None, shuffle=True, solver='adam', tol=0.0001,\n",
       "              validation_fraction=0.1, verbose=False, warm_start=False)"
      ]
     },
     "execution_count": 8,
     "metadata": {},
     "output_type": "execute_result"
    }
   ],
   "source": [
    "%%time\n",
    "\n",
    "from sklearn.neural_network import MLPClassifier\n",
    "\n",
    "agent = MLPClassifier(\n",
    "    hidden_layer_sizes=(20, 20),\n",
    "    activation='tanh',\n",
    ")\n",
    "\n",
    "# initialize agent to the dimension of state space and number of actions\n",
    "agent.fit(train_X[:500000], train_y[:500000])"
   ]
  },
  {
   "cell_type": "markdown",
   "metadata": {},
   "source": [
    "---\n",
    "###### Получим предсказания на тесте"
   ]
  },
  {
   "cell_type": "code",
   "execution_count": 9,
   "metadata": {},
   "outputs": [],
   "source": [
    "test_data = pd.read_csv('names_and_rubrics_test_no_rubric.csv', sep=',')\n",
    "test_data.columns = ['Id', 'Name']"
   ]
  },
  {
   "cell_type": "code",
   "execution_count": 10,
   "metadata": {},
   "outputs": [],
   "source": [
    "test_X = test_data['Name']"
   ]
  },
  {
   "cell_type": "code",
   "execution_count": 11,
   "metadata": {},
   "outputs": [
    {
     "name": "stdout",
     "output_type": "stream",
     "text": [
      "CPU times: user 39.9 s, sys: 1.86 s, total: 41.7 s\n",
      "Wall time: 1min 5s\n"
     ]
    }
   ],
   "source": [
    "%%time\n",
    "test_X = np.array([np.mean([model[w] for w in s.split(' ')], axis=0) for s in test_X])"
   ]
  },
  {
   "cell_type": "code",
   "execution_count": 13,
   "metadata": {},
   "outputs": [
    {
     "data": {
      "application/vnd.jupyter.widget-view+json": {
       "model_id": "97111d01103e440abb9f569dfbf18650",
       "version_major": 2,
       "version_minor": 0
      },
      "text/plain": [
       "HBox(children=(IntProgress(value=0, max=1000000), HTML(value='')))"
      ]
     },
     "metadata": {},
     "output_type": "display_data"
    },
    {
     "name": "stdout",
     "output_type": "stream",
     "text": [
      "\n",
      "CPU times: user 12min 36s, sys: 42.4 s, total: 13min 18s\n",
      "Wall time: 4min 1s\n"
     ]
    }
   ],
   "source": [
    "%%time\n",
    "predictions = []\n",
    "for i in tqdm_notebook(range(test_X.shape[0])):\n",
    "    predictions.append(agent.predict([test_X[i]]))"
   ]
  },
  {
   "cell_type": "code",
   "execution_count": 15,
   "metadata": {},
   "outputs": [],
   "source": [
    "id_cat = {}\n",
    "\n",
    "for k, v in cat_id.items():\n",
    "    id_cat[v] = k"
   ]
  },
  {
   "cell_type": "code",
   "execution_count": 19,
   "metadata": {},
   "outputs": [],
   "source": [
    "test_data['Category'] = list(map(lambda x: id_cat[x[0]], predictions))"
   ]
  },
  {
   "cell_type": "code",
   "execution_count": 20,
   "metadata": {},
   "outputs": [
    {
     "data": {
      "text/html": [
       "<div>\n",
       "<style scoped>\n",
       "    .dataframe tbody tr th:only-of-type {\n",
       "        vertical-align: middle;\n",
       "    }\n",
       "\n",
       "    .dataframe tbody tr th {\n",
       "        vertical-align: top;\n",
       "    }\n",
       "\n",
       "    .dataframe thead th {\n",
       "        text-align: right;\n",
       "    }\n",
       "</style>\n",
       "<table border=\"1\" class=\"dataframe\">\n",
       "  <thead>\n",
       "    <tr style=\"text-align: right;\">\n",
       "      <th></th>\n",
       "      <th>Id</th>\n",
       "      <th>Name</th>\n",
       "      <th>Category</th>\n",
       "    </tr>\n",
       "  </thead>\n",
       "  <tbody>\n",
       "    <tr>\n",
       "      <td>0</td>\n",
       "      <td>1</td>\n",
       "      <td>Arena Stem</td>\n",
       "      <td>Магазин одежды</td>\n",
       "    </tr>\n",
       "    <tr>\n",
       "      <td>1</td>\n",
       "      <td>2</td>\n",
       "      <td>Муниципальное дошкольное образовательное бюдже...</td>\n",
       "      <td>Детский сад</td>\n",
       "    </tr>\n",
       "    <tr>\n",
       "      <td>2</td>\n",
       "      <td>3</td>\n",
       "      <td>Апартаменты на переулке Пилотов 10</td>\n",
       "      <td>Апартаменты</td>\n",
       "    </tr>\n",
       "    <tr>\n",
       "      <td>3</td>\n",
       "      <td>4</td>\n",
       "      <td>Обсерватория Вологодского университета</td>\n",
       "      <td>ВУЗ</td>\n",
       "    </tr>\n",
       "    <tr>\n",
       "      <td>4</td>\n",
       "      <td>5</td>\n",
       "      <td>Фармальянс</td>\n",
       "      <td>Аптека</td>\n",
       "    </tr>\n",
       "    <tr>\n",
       "      <td>5</td>\n",
       "      <td>6</td>\n",
       "      <td>Фирма Бриз</td>\n",
       "      <td>Автомобильные грузоперевозки</td>\n",
       "    </tr>\n",
       "    <tr>\n",
       "      <td>6</td>\n",
       "      <td>7</td>\n",
       "      <td>Завод Квант</td>\n",
       "      <td>Производственное предприятие</td>\n",
       "    </tr>\n",
       "    <tr>\n",
       "      <td>7</td>\n",
       "      <td>8</td>\n",
       "      <td>Рэго</td>\n",
       "      <td>Остановка общественного транспорта</td>\n",
       "    </tr>\n",
       "    <tr>\n",
       "      <td>8</td>\n",
       "      <td>9</td>\n",
       "      <td>Диагностика</td>\n",
       "      <td>Автосервис, автотехцентр</td>\n",
       "    </tr>\n",
       "    <tr>\n",
       "      <td>9</td>\n",
       "      <td>10</td>\n",
       "      <td>Алазейский Наслег</td>\n",
       "      <td>Остановка общественного транспорта</td>\n",
       "    </tr>\n",
       "    <tr>\n",
       "      <td>10</td>\n",
       "      <td>11</td>\n",
       "      <td>Лесничество</td>\n",
       "      <td>Лесничество, лесхоз</td>\n",
       "    </tr>\n",
       "    <tr>\n",
       "      <td>11</td>\n",
       "      <td>12</td>\n",
       "      <td>Колокольня Казанского собора</td>\n",
       "      <td>Православный храм</td>\n",
       "    </tr>\n",
       "    <tr>\n",
       "      <td>12</td>\n",
       "      <td>13</td>\n",
       "      <td>Историко-краеведческий музей поселка Лиман</td>\n",
       "      <td>Музей</td>\n",
       "    </tr>\n",
       "    <tr>\n",
       "      <td>13</td>\n",
       "      <td>14</td>\n",
       "      <td>Lime Beauty Studio</td>\n",
       "      <td>Салон красоты</td>\n",
       "    </tr>\n",
       "    <tr>\n",
       "      <td>14</td>\n",
       "      <td>15</td>\n",
       "      <td>НЕОФАРМ</td>\n",
       "      <td>Аптека</td>\n",
       "    </tr>\n",
       "    <tr>\n",
       "      <td>15</td>\n",
       "      <td>16</td>\n",
       "      <td>Местная исламская религиозная организация мече...</td>\n",
       "      <td>Библиотека</td>\n",
       "    </tr>\n",
       "    <tr>\n",
       "      <td>16</td>\n",
       "      <td>17</td>\n",
       "      <td>Часовня Чудотворца</td>\n",
       "      <td>Православный храм</td>\n",
       "    </tr>\n",
       "    <tr>\n",
       "      <td>17</td>\n",
       "      <td>18</td>\n",
       "      <td>Идо</td>\n",
       "      <td>ВУЗ</td>\n",
       "    </tr>\n",
       "    <tr>\n",
       "      <td>18</td>\n",
       "      <td>19</td>\n",
       "      <td>Ключ здоровья</td>\n",
       "      <td>Магазин воды</td>\n",
       "    </tr>\n",
       "    <tr>\n",
       "      <td>19</td>\n",
       "      <td>20</td>\n",
       "      <td>Русичи</td>\n",
       "      <td>Охранное предприятие</td>\n",
       "    </tr>\n",
       "  </tbody>\n",
       "</table>\n",
       "</div>"
      ],
      "text/plain": [
       "    Id                                               Name  \\\n",
       "0    1                                         Arena Stem   \n",
       "1    2  Муниципальное дошкольное образовательное бюдже...   \n",
       "2    3                 Апартаменты на переулке Пилотов 10   \n",
       "3    4             Обсерватория Вологодского университета   \n",
       "4    5                                         Фармальянс   \n",
       "5    6                                         Фирма Бриз   \n",
       "6    7                                        Завод Квант   \n",
       "7    8                                               Рэго   \n",
       "8    9                                        Диагностика   \n",
       "9   10                                  Алазейский Наслег   \n",
       "10  11                                        Лесничество   \n",
       "11  12                       Колокольня Казанского собора   \n",
       "12  13         Историко-краеведческий музей поселка Лиман   \n",
       "13  14                                 Lime Beauty Studio   \n",
       "14  15                                            НЕОФАРМ   \n",
       "15  16  Местная исламская религиозная организация мече...   \n",
       "16  17                                 Часовня Чудотворца   \n",
       "17  18                                                Идо   \n",
       "18  19                                      Ключ здоровья   \n",
       "19  20                                             Русичи   \n",
       "\n",
       "                              Category  \n",
       "0                       Магазин одежды  \n",
       "1                          Детский сад  \n",
       "2                          Апартаменты  \n",
       "3                                  ВУЗ  \n",
       "4                               Аптека  \n",
       "5         Автомобильные грузоперевозки  \n",
       "6         Производственное предприятие  \n",
       "7   Остановка общественного транспорта  \n",
       "8             Автосервис, автотехцентр  \n",
       "9   Остановка общественного транспорта  \n",
       "10                 Лесничество, лесхоз  \n",
       "11                   Православный храм  \n",
       "12                               Музей  \n",
       "13                       Салон красоты  \n",
       "14                              Аптека  \n",
       "15                          Библиотека  \n",
       "16                   Православный храм  \n",
       "17                                 ВУЗ  \n",
       "18                        Магазин воды  \n",
       "19                Охранное предприятие  "
      ]
     },
     "execution_count": 20,
     "metadata": {},
     "output_type": "execute_result"
    }
   ],
   "source": [
    "test_data.head(20)"
   ]
  },
  {
   "cell_type": "code",
   "execution_count": 21,
   "metadata": {},
   "outputs": [],
   "source": [
    "test_data[['Id', 'Category']].to_csv('result.csv', index=False)"
   ]
  },
  {
   "cell_type": "markdown",
   "metadata": {},
   "source": [
    "---\n",
    "###### Данное  решение получает 42% accuracy на тесте\n",
    "\n",
    "Посмотрим на примеры правильных и неправильных классификаций"
   ]
  },
  {
   "cell_type": "code",
   "execution_count": 23,
   "metadata": {},
   "outputs": [
    {
     "data": {
      "application/vnd.jupyter.widget-view+json": {
       "model_id": "037488dc23b64bc6a4ae4e45369e2300",
       "version_major": 2,
       "version_minor": 0
      },
      "text/plain": [
       "HBox(children=(IntProgress(value=0, max=1000), HTML(value='')))"
      ]
     },
     "metadata": {},
     "output_type": "display_data"
    },
    {
     "name": "stdout",
     "output_type": "stream",
     "text": [
      "\n",
      "CPU times: user 784 ms, sys: 41.3 ms, total: 825 ms\n",
      "Wall time: 257 ms\n"
     ]
    }
   ],
   "source": [
    "%%time\n",
    "train_predictions = []\n",
    "\n",
    "for i in tqdm_notebook(range(1000)):\n",
    "    train_predictions.append(agent.predict([train_X[i]])[0])"
   ]
  },
  {
   "cell_type": "code",
   "execution_count": 28,
   "metadata": {},
   "outputs": [],
   "source": [
    "example_predictions = train_data.iloc[np.arange(1000)].copy()"
   ]
  },
  {
   "cell_type": "code",
   "execution_count": 29,
   "metadata": {},
   "outputs": [],
   "source": [
    "example_predictions['Prediction'] = list(map(lambda x: id_cat[x], train_predictions))"
   ]
  },
  {
   "cell_type": "code",
   "execution_count": 31,
   "metadata": {},
   "outputs": [],
   "source": [
    "mask = (example_predictions['category'] == example_predictions['Prediction'])"
   ]
  },
  {
   "cell_type": "code",
   "execution_count": 35,
   "metadata": {},
   "outputs": [
    {
     "data": {
      "text/html": [
       "<div>\n",
       "<style scoped>\n",
       "    .dataframe tbody tr th:only-of-type {\n",
       "        vertical-align: middle;\n",
       "    }\n",
       "\n",
       "    .dataframe tbody tr th {\n",
       "        vertical-align: top;\n",
       "    }\n",
       "\n",
       "    .dataframe thead th {\n",
       "        text-align: right;\n",
       "    }\n",
       "</style>\n",
       "<table border=\"1\" class=\"dataframe\">\n",
       "  <thead>\n",
       "    <tr style=\"text-align: right;\">\n",
       "      <th></th>\n",
       "      <th>name</th>\n",
       "      <th>category</th>\n",
       "      <th>Prediction</th>\n",
       "    </tr>\n",
       "  </thead>\n",
       "  <tbody>\n",
       "    <tr>\n",
       "      <td>1</td>\n",
       "      <td>Мастерок</td>\n",
       "      <td>Строительный магазин</td>\n",
       "      <td>Строительный магазин</td>\n",
       "    </tr>\n",
       "    <tr>\n",
       "      <td>2</td>\n",
       "      <td>Суши-бар</td>\n",
       "      <td>Суши-бар</td>\n",
       "      <td>Суши-бар</td>\n",
       "    </tr>\n",
       "    <tr>\n",
       "      <td>4</td>\n",
       "      <td>Универсам Бегемот</td>\n",
       "      <td>Супермаркет</td>\n",
       "      <td>Супермаркет</td>\n",
       "    </tr>\n",
       "    <tr>\n",
       "      <td>7</td>\n",
       "      <td>Ростов Арена, блок D418</td>\n",
       "      <td>Блок стадиона</td>\n",
       "      <td>Блок стадиона</td>\n",
       "    </tr>\n",
       "    <tr>\n",
       "      <td>8</td>\n",
       "      <td>Детские игровые залы и площадки</td>\n",
       "      <td>Детские игровые залы и площадки</td>\n",
       "      <td>Детские игровые залы и площадки</td>\n",
       "    </tr>\n",
       "    <tr>\n",
       "      <td>9</td>\n",
       "      <td>ДЮСШ</td>\n",
       "      <td>Спортивная школа</td>\n",
       "      <td>Спортивная школа</td>\n",
       "    </tr>\n",
       "    <tr>\n",
       "      <td>11</td>\n",
       "      <td>Администрация Найфельдского Сельского Поселени...</td>\n",
       "      <td>Администрация</td>\n",
       "      <td>Администрация</td>\n",
       "    </tr>\n",
       "    <tr>\n",
       "      <td>12</td>\n",
       "      <td>Детские игровые залы и площадки</td>\n",
       "      <td>Детские игровые залы и площадки</td>\n",
       "      <td>Детские игровые залы и площадки</td>\n",
       "    </tr>\n",
       "    <tr>\n",
       "      <td>16</td>\n",
       "      <td>МАОУ СОШ № 20 Городского Округа г. Стерлитамак РБ</td>\n",
       "      <td>Общеобразовательная школа</td>\n",
       "      <td>Общеобразовательная школа</td>\n",
       "    </tr>\n",
       "    <tr>\n",
       "      <td>18</td>\n",
       "      <td>Автосалон</td>\n",
       "      <td>Автосалон</td>\n",
       "      <td>Автосалон</td>\n",
       "    </tr>\n",
       "    <tr>\n",
       "      <td>19</td>\n",
       "      <td>Стоматологический центр Ego plus</td>\n",
       "      <td>Стоматологическая клиника</td>\n",
       "      <td>Стоматологическая клиника</td>\n",
       "    </tr>\n",
       "    <tr>\n",
       "      <td>23</td>\n",
       "      <td>ЦГКБ № 1</td>\n",
       "      <td>Больница для взрослых</td>\n",
       "      <td>Больница для взрослых</td>\n",
       "    </tr>\n",
       "    <tr>\n",
       "      <td>28</td>\n",
       "      <td>Первая Социальная аптека</td>\n",
       "      <td>Аптека</td>\n",
       "      <td>Аптека</td>\n",
       "    </tr>\n",
       "    <tr>\n",
       "      <td>29</td>\n",
       "      <td>Универсам Дикси</td>\n",
       "      <td>Супермаркет</td>\n",
       "      <td>Супермаркет</td>\n",
       "    </tr>\n",
       "    <tr>\n",
       "      <td>30</td>\n",
       "      <td>Мордовская республиканская клиническая больниц...</td>\n",
       "      <td>Больница для взрослых</td>\n",
       "      <td>Больница для взрослых</td>\n",
       "    </tr>\n",
       "    <tr>\n",
       "      <td>31</td>\n",
       "      <td>ФГУП Всероссийский электро-технический институт</td>\n",
       "      <td>НИИ</td>\n",
       "      <td>НИИ</td>\n",
       "    </tr>\n",
       "    <tr>\n",
       "      <td>32</td>\n",
       "      <td>Книга+</td>\n",
       "      <td>Книжный магазин</td>\n",
       "      <td>Книжный магазин</td>\n",
       "    </tr>\n",
       "    <tr>\n",
       "      <td>36</td>\n",
       "      <td>Заокский районный суд</td>\n",
       "      <td>Суд</td>\n",
       "      <td>Суд</td>\n",
       "    </tr>\n",
       "    <tr>\n",
       "      <td>41</td>\n",
       "      <td>Тимер Банк, банкомат</td>\n",
       "      <td>Банкомат</td>\n",
       "      <td>Банкомат</td>\n",
       "    </tr>\n",
       "    <tr>\n",
       "      <td>42</td>\n",
       "      <td>Дом культуры села Дергиз-Аксы</td>\n",
       "      <td>Дом культуры</td>\n",
       "      <td>Дом культуры</td>\n",
       "    </tr>\n",
       "  </tbody>\n",
       "</table>\n",
       "</div>"
      ],
      "text/plain": [
       "                                                 name  \\\n",
       "1                                            Мастерок   \n",
       "2                                            Суши-бар   \n",
       "4                                   Универсам Бегемот   \n",
       "7                             Ростов Арена, блок D418   \n",
       "8                     Детские игровые залы и площадки   \n",
       "9                                                ДЮСШ   \n",
       "11  Администрация Найфельдского Сельского Поселени...   \n",
       "12                    Детские игровые залы и площадки   \n",
       "16  МАОУ СОШ № 20 Городского Округа г. Стерлитамак РБ   \n",
       "18                                          Автосалон   \n",
       "19                   Стоматологический центр Ego plus   \n",
       "23                                           ЦГКБ № 1   \n",
       "28                           Первая Социальная аптека   \n",
       "29                                    Универсам Дикси   \n",
       "30  Мордовская республиканская клиническая больниц...   \n",
       "31    ФГУП Всероссийский электро-технический институт   \n",
       "32                                             Книга+   \n",
       "36                              Заокский районный суд   \n",
       "41                               Тимер Банк, банкомат   \n",
       "42                      Дом культуры села Дергиз-Аксы   \n",
       "\n",
       "                           category                       Prediction  \n",
       "1              Строительный магазин             Строительный магазин  \n",
       "2                          Суши-бар                         Суши-бар  \n",
       "4                       Супермаркет                      Супермаркет  \n",
       "7                     Блок стадиона                    Блок стадиона  \n",
       "8   Детские игровые залы и площадки  Детские игровые залы и площадки  \n",
       "9                  Спортивная школа                 Спортивная школа  \n",
       "11                    Администрация                    Администрация  \n",
       "12  Детские игровые залы и площадки  Детские игровые залы и площадки  \n",
       "16        Общеобразовательная школа        Общеобразовательная школа  \n",
       "18                        Автосалон                        Автосалон  \n",
       "19        Стоматологическая клиника        Стоматологическая клиника  \n",
       "23            Больница для взрослых            Больница для взрослых  \n",
       "28                           Аптека                           Аптека  \n",
       "29                      Супермаркет                      Супермаркет  \n",
       "30            Больница для взрослых            Больница для взрослых  \n",
       "31                              НИИ                              НИИ  \n",
       "32                  Книжный магазин                  Книжный магазин  \n",
       "36                              Суд                              Суд  \n",
       "41                         Банкомат                         Банкомат  \n",
       "42                     Дом культуры                     Дом культуры  "
      ]
     },
     "execution_count": 35,
     "metadata": {},
     "output_type": "execute_result"
    }
   ],
   "source": [
    "example_predictions.loc[mask == True].head(20)"
   ]
  },
  {
   "cell_type": "code",
   "execution_count": 36,
   "metadata": {},
   "outputs": [
    {
     "data": {
      "text/html": [
       "<div>\n",
       "<style scoped>\n",
       "    .dataframe tbody tr th:only-of-type {\n",
       "        vertical-align: middle;\n",
       "    }\n",
       "\n",
       "    .dataframe tbody tr th {\n",
       "        vertical-align: top;\n",
       "    }\n",
       "\n",
       "    .dataframe thead th {\n",
       "        text-align: right;\n",
       "    }\n",
       "</style>\n",
       "<table border=\"1\" class=\"dataframe\">\n",
       "  <thead>\n",
       "    <tr style=\"text-align: right;\">\n",
       "      <th></th>\n",
       "      <th>name</th>\n",
       "      <th>category</th>\n",
       "      <th>Prediction</th>\n",
       "    </tr>\n",
       "  </thead>\n",
       "  <tbody>\n",
       "    <tr>\n",
       "      <td>0</td>\n",
       "      <td>Автобусная компания Транспорт52</td>\n",
       "      <td>Автобусные междугородные перевозки</td>\n",
       "      <td>Автомобильные грузоперевозки</td>\n",
       "    </tr>\n",
       "    <tr>\n",
       "      <td>3</td>\n",
       "      <td>Экспром</td>\n",
       "      <td>Металлоизделия</td>\n",
       "      <td>Строительная компания</td>\n",
       "    </tr>\n",
       "    <tr>\n",
       "      <td>5</td>\n",
       "      <td>Русстрой</td>\n",
       "      <td>Кровля и кровельные материалы</td>\n",
       "      <td>Остановка общественного транспорта</td>\n",
       "    </tr>\n",
       "    <tr>\n",
       "      <td>6</td>\n",
       "      <td>Прародомысл</td>\n",
       "      <td>Юридические услуги</td>\n",
       "      <td>Администрация</td>\n",
       "    </tr>\n",
       "    <tr>\n",
       "      <td>10</td>\n",
       "      <td>Корпорация Енисей</td>\n",
       "      <td>Магазин автозапчастей и автотоваров</td>\n",
       "      <td>Строительная компания</td>\n",
       "    </tr>\n",
       "    <tr>\n",
       "      <td>13</td>\n",
       "      <td>Обнова</td>\n",
       "      <td>Магазин обуви</td>\n",
       "      <td>Магазин одежды</td>\n",
       "    </tr>\n",
       "    <tr>\n",
       "      <td>14</td>\n",
       "      <td>Казань-елки.рф</td>\n",
       "      <td>Ёлочный базар</td>\n",
       "      <td>Остановка общественного транспорта</td>\n",
       "    </tr>\n",
       "    <tr>\n",
       "      <td>15</td>\n",
       "      <td>AROMAgroup - Барнаул</td>\n",
       "      <td>Очистители, увлажнители и ароматизаторы воздуха</td>\n",
       "      <td>Остановка общественного транспорта</td>\n",
       "    </tr>\n",
       "    <tr>\n",
       "      <td>17</td>\n",
       "      <td>Стальпром</td>\n",
       "      <td>Металлические заборы и ограждения</td>\n",
       "      <td>АЗС</td>\n",
       "    </tr>\n",
       "    <tr>\n",
       "      <td>20</td>\n",
       "      <td>414 Км</td>\n",
       "      <td>Непассажирская станция</td>\n",
       "      <td>Железнодорожная станция</td>\n",
       "    </tr>\n",
       "    <tr>\n",
       "      <td>21</td>\n",
       "      <td>Мебельная студия MIXX</td>\n",
       "      <td>Мебель для кухни</td>\n",
       "      <td>Магазин мебели</td>\n",
       "    </tr>\n",
       "    <tr>\n",
       "      <td>22</td>\n",
       "      <td>Трансавтогарант</td>\n",
       "      <td>Автотранспортное предприятие, автобаза</td>\n",
       "      <td>Автосервис, автотехцентр</td>\n",
       "    </tr>\n",
       "    <tr>\n",
       "      <td>24</td>\n",
       "      <td>Bugazskaya Kosa</td>\n",
       "      <td>Гостиница</td>\n",
       "      <td>Салон красоты</td>\n",
       "    </tr>\n",
       "    <tr>\n",
       "      <td>25</td>\n",
       "      <td>Народный дом</td>\n",
       "      <td>Дом культуры</td>\n",
       "      <td>Ломбард</td>\n",
       "    </tr>\n",
       "    <tr>\n",
       "      <td>26</td>\n",
       "      <td>АГНКС № 1 Газпром Дзержинск</td>\n",
       "      <td>АГНС, АГЗС, АГНКС</td>\n",
       "      <td>АЗС</td>\n",
       "    </tr>\n",
       "    <tr>\n",
       "      <td>27</td>\n",
       "      <td>Домовой</td>\n",
       "      <td>Строительный инструмент</td>\n",
       "      <td>Строительный магазин</td>\n",
       "    </tr>\n",
       "    <tr>\n",
       "      <td>33</td>\n",
       "      <td>Bonjour</td>\n",
       "      <td>Ремонт обуви</td>\n",
       "      <td>Жилой комплекс</td>\n",
       "    </tr>\n",
       "    <tr>\n",
       "      <td>34</td>\n",
       "      <td>ДХШ им. И. Н. Крамского</td>\n",
       "      <td>Школа искусств</td>\n",
       "      <td>Музей</td>\n",
       "    </tr>\n",
       "    <tr>\n",
       "      <td>35</td>\n",
       "      <td>Димат</td>\n",
       "      <td>Магазин хозтоваров и бытовой химии</td>\n",
       "      <td>Салон красоты</td>\n",
       "    </tr>\n",
       "    <tr>\n",
       "      <td>37</td>\n",
       "      <td>Победа</td>\n",
       "      <td>Супермаркет</td>\n",
       "      <td>Остановка общественного транспорта</td>\n",
       "    </tr>\n",
       "  </tbody>\n",
       "</table>\n",
       "</div>"
      ],
      "text/plain": [
       "                               name  \\\n",
       "0   Автобусная компания Транспорт52   \n",
       "3                           Экспром   \n",
       "5                          Русстрой   \n",
       "6                       Прародомысл   \n",
       "10                Корпорация Енисей   \n",
       "13                           Обнова   \n",
       "14                   Казань-елки.рф   \n",
       "15             AROMAgroup - Барнаул   \n",
       "17                        Стальпром   \n",
       "20                           414 Км   \n",
       "21            Мебельная студия MIXX   \n",
       "22                  Трансавтогарант   \n",
       "24                  Bugazskaya Kosa   \n",
       "25                     Народный дом   \n",
       "26      АГНКС № 1 Газпром Дзержинск   \n",
       "27                          Домовой   \n",
       "33                          Bonjour   \n",
       "34          ДХШ им. И. Н. Крамского   \n",
       "35                            Димат   \n",
       "37                           Победа   \n",
       "\n",
       "                                           category  \\\n",
       "0                Автобусные междугородные перевозки   \n",
       "3                                    Металлоизделия   \n",
       "5                     Кровля и кровельные материалы   \n",
       "6                                Юридические услуги   \n",
       "10              Магазин автозапчастей и автотоваров   \n",
       "13                                    Магазин обуви   \n",
       "14                                    Ёлочный базар   \n",
       "15  Очистители, увлажнители и ароматизаторы воздуха   \n",
       "17                Металлические заборы и ограждения   \n",
       "20                           Непассажирская станция   \n",
       "21                                 Мебель для кухни   \n",
       "22           Автотранспортное предприятие, автобаза   \n",
       "24                                        Гостиница   \n",
       "25                                     Дом культуры   \n",
       "26                                АГНС, АГЗС, АГНКС   \n",
       "27                          Строительный инструмент   \n",
       "33                                     Ремонт обуви   \n",
       "34                                   Школа искусств   \n",
       "35               Магазин хозтоваров и бытовой химии   \n",
       "37                                      Супермаркет   \n",
       "\n",
       "                            Prediction  \n",
       "0         Автомобильные грузоперевозки  \n",
       "3                Строительная компания  \n",
       "5   Остановка общественного транспорта  \n",
       "6                        Администрация  \n",
       "10               Строительная компания  \n",
       "13                      Магазин одежды  \n",
       "14  Остановка общественного транспорта  \n",
       "15  Остановка общественного транспорта  \n",
       "17                                 АЗС  \n",
       "20             Железнодорожная станция  \n",
       "21                      Магазин мебели  \n",
       "22            Автосервис, автотехцентр  \n",
       "24                       Салон красоты  \n",
       "25                             Ломбард  \n",
       "26                                 АЗС  \n",
       "27                Строительный магазин  \n",
       "33                      Жилой комплекс  \n",
       "34                               Музей  \n",
       "35                       Салон красоты  \n",
       "37  Остановка общественного транспорта  "
      ]
     },
     "execution_count": 36,
     "metadata": {},
     "output_type": "execute_result"
    }
   ],
   "source": [
    "example_predictions.loc[mask == False].head(20)"
   ]
  },
  {
   "cell_type": "markdown",
   "metadata": {},
   "source": [
    "---\n",
    "###### Как видим, достаточно часто неправильные предсказания близки к правильным"
   ]
  }
 ],
 "metadata": {
  "kernelspec": {
   "display_name": "Python 3",
   "language": "python",
   "name": "python3"
  },
  "language_info": {
   "codemirror_mode": {
    "name": "ipython",
    "version": 3
   },
   "file_extension": ".py",
   "mimetype": "text/x-python",
   "name": "python",
   "nbconvert_exporter": "python",
   "pygments_lexer": "ipython3",
   "version": "3.7.4"
  }
 },
 "nbformat": 4,
 "nbformat_minor": 2
}
