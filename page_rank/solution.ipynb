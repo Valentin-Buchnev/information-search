{
 "cells": [
  {
   "cell_type": "markdown",
   "metadata": {},
   "source": [
    "### Libraries"
   ]
  },
  {
   "cell_type": "code",
   "execution_count": 10,
   "metadata": {},
   "outputs": [],
   "source": [
    "from urllib.parse import urlparse\n",
    "from urllib.parse import urldefrag\n",
    "\n",
    "from urllib.request import urlopen\n",
    "from file_storage import FileStorage\n",
    "\n",
    "from bs4 import BeautifulSoup\n",
    "from urllib.parse import urljoin\n",
    "\n",
    "from queue import Queue\n",
    "\n",
    "from tqdm import tqdm_notebook\n",
    "\n",
    "import numpy as np\n",
    "import pandas as pd\n",
    "from matplotlib import pyplot as plt"
   ]
  },
  {
   "cell_type": "markdown",
   "metadata": {},
   "source": [
    "---\n",
    "###### Some functions"
   ]
  },
  {
   "cell_type": "code",
   "execution_count": 2,
   "metadata": {},
   "outputs": [],
   "source": [
    "def extract_links_from_html(url, html):\n",
    "    parser = BeautifulSoup(html, \"lxml\")\n",
    "    return [urljoin(url, link.get('href')) for link in parser.findAll('a')]"
   ]
  },
  {
   "cell_type": "markdown",
   "metadata": {},
   "source": [
    "---\n",
    "###### Solution"
   ]
  },
  {
   "cell_type": "code",
   "execution_count": 3,
   "metadata": {},
   "outputs": [],
   "source": [
    "fs = FileStorage('storage')"
   ]
  },
  {
   "cell_type": "markdown",
   "metadata": {},
   "source": [
    "---\n",
    "###### Пронумеруем все урлы и выкинем лишние"
   ]
  },
  {
   "cell_type": "code",
   "execution_count": 4,
   "metadata": {},
   "outputs": [
    {
     "data": {
      "application/vnd.jupyter.widget-view+json": {
       "model_id": "5c9b17d59bba43f48d4dfd38fd566581",
       "version_major": 2,
       "version_minor": 0
      },
      "text/plain": [
       "HBox(children=(IntProgress(value=0, max=189362), HTML(value='')))"
      ]
     },
     "metadata": {},
     "output_type": "display_data"
    },
    {
     "name": "stdout",
     "output_type": "stream",
     "text": [
      "\n"
     ]
    }
   ],
   "source": [
    "url_idx = {}\n",
    "\n",
    "not_articles = ['/wiki/Help:', '/wiki/Help_talk', '/wiki/File:', '/wiki/Media:', '/wiki/MediaWiki:', \n",
    "                '/wiki/MediaWiki_talk:', '/wiki/Module:', '/wiki/Talk:', '/wiki/Category:', \n",
    "                '/wiki/Category_talk:', '/wiki/User:', '/wiki/User_talk:', '/wiki/Special:', '/wiki/Template:', \n",
    "                '/wiki/Template_talk:', '/wiki/Wikipedia:', '/wiki/Wikipedia_talk:']\n",
    "\n",
    "url_counter = 0\n",
    "\n",
    "for url in tqdm_notebook(fs.dict.keys()):\n",
    "    if all(map(lambda x: x not in url, not_articles)):\n",
    "        url_idx[url] = url_counter\n",
    "        url_counter += 1"
   ]
  },
  {
   "cell_type": "markdown",
   "metadata": {},
   "source": [
    "---\n",
    "###### Для каждого урла посчитаем количество входящих ссылок"
   ]
  },
  {
   "cell_type": "code",
   "execution_count": 5,
   "metadata": {},
   "outputs": [
    {
     "data": {
      "application/vnd.jupyter.widget-view+json": {
       "model_id": "33e52827a6dd48b8af51f2c7632a6e1a",
       "version_major": 2,
       "version_minor": 0
      },
      "text/plain": [
       "HBox(children=(IntProgress(value=0, max=189172), HTML(value='')))"
      ]
     },
     "metadata": {},
     "output_type": "display_data"
    },
    {
     "name": "stdout",
     "output_type": "stream",
     "text": [
      "\n"
     ]
    }
   ],
   "source": [
    "L = {}\n",
    "\n",
    "for url in tqdm_notebook(url_idx.keys()):\n",
    "    links = extract_links_from_html(url, fs.read(url))\n",
    "    L[url] = np.sum([1 if all(map(lambda x: x not in link, not_articles)) else 0 for link in links])"
   ]
  },
  {
   "cell_type": "markdown",
   "metadata": {},
   "source": [
    "---\n",
    "###### Итеративным алгоритмом посчитаем PageRank"
   ]
  },
  {
   "cell_type": "code",
   "execution_count": 6,
   "metadata": {},
   "outputs": [],
   "source": [
    "def calcPageRank(start_url='https://simple.wikipedia.org/wiki/Main_Page', delta=0.85, tol=0.1, verbose=True):\n",
    "\n",
    "    pr = np.zeros(len(url_idx)) + 1\n",
    "\n",
    "    iter_counter = 0\n",
    "    \n",
    "    residuals = []\n",
    "    \n",
    "    while True:\n",
    "        next_pr = np.zeros(len(url_idx)) + (1 - delta)\n",
    "        \n",
    "        for url in tqdm_notebook(url_idx.keys()) if verbose else url_idx.keys():\n",
    "            \n",
    "            idx_from = url_idx[url]\n",
    "            \n",
    "            links = extract_links_from_html(url, fs.read(url))\n",
    "            for link in links:\n",
    "                link = urldefrag(link).url\n",
    "                if link in url_idx:\n",
    "                    idx_to = url_idx[link]\n",
    "                    next_pr[idx_to] += delta / L[url] * pr[idx_from]\n",
    "        \n",
    "        iter_counter += 1\n",
    "        \n",
    "        if verbose:\n",
    "            print('iteration %d' % iter_counter)\n",
    "            print('residual is %.2f' % np.max(np.absolute(pr - next_pr)))\n",
    "            residuals.append(np.max(np.absolute(pr - next_pr)))\n",
    "        \n",
    "        if np.max(np.absolute(pr - next_pr)) < tol:\n",
    "            break\n",
    "                             \n",
    "        pr = next_pr\n",
    "        \n",
    "    if verbose:\n",
    "        plt.figure(figsize=(15, 8))\n",
    "        plt.plot(np.arange(len(residuals)), residuals, label='residuals')\n",
    "        plt.xlabel('number of iteration', fontsize=16)\n",
    "        plt.ylabel('$\\\\max_{i} ~|PageRank(i) - PageRank_{next}(i)|$', fontsize=16)\n",
    "        plt.show()\n",
    "        \n",
    "    return pr"
   ]
  },
  {
   "cell_type": "code",
   "execution_count": 7,
   "metadata": {
    "scrolled": false
   },
   "outputs": [
    {
     "data": {
      "application/vnd.jupyter.widget-view+json": {
       "model_id": "1e0df3f4f13146ce8cd3b7536812bfe7",
       "version_major": 2,
       "version_minor": 0
      },
      "text/plain": [
       "HBox(children=(IntProgress(value=0, max=189172), HTML(value='')))"
      ]
     },
     "metadata": {},
     "output_type": "display_data"
    },
    {
     "name": "stdout",
     "output_type": "stream",
     "text": [
      "\n",
      "iteration 1\n",
      "residual is 3757.53\n"
     ]
    },
    {
     "data": {
      "application/vnd.jupyter.widget-view+json": {
       "model_id": "ffa84ae3728f4a1694ffe7f15d76a18e",
       "version_major": 2,
       "version_minor": 0
      },
      "text/plain": [
       "HBox(children=(IntProgress(value=0, max=189172), HTML(value='')))"
      ]
     },
     "metadata": {},
     "output_type": "display_data"
    },
    {
     "name": "stdout",
     "output_type": "stream",
     "text": [
      "\n",
      "iteration 2\n",
      "residual is 2386.57\n"
     ]
    },
    {
     "data": {
      "application/vnd.jupyter.widget-view+json": {
       "model_id": "75c6e177e29e4c2a92cf403065427d4e",
       "version_major": 2,
       "version_minor": 0
      },
      "text/plain": [
       "HBox(children=(IntProgress(value=0, max=189172), HTML(value='')))"
      ]
     },
     "metadata": {},
     "output_type": "display_data"
    },
    {
     "name": "stdout",
     "output_type": "stream",
     "text": [
      "\n",
      "iteration 3\n",
      "residual is 466.30\n"
     ]
    },
    {
     "data": {
      "application/vnd.jupyter.widget-view+json": {
       "model_id": "cc0d018c2a2143eea5ad2331a47a26c0",
       "version_major": 2,
       "version_minor": 0
      },
      "text/plain": [
       "HBox(children=(IntProgress(value=0, max=189172), HTML(value='')))"
      ]
     },
     "metadata": {},
     "output_type": "display_data"
    },
    {
     "name": "stdout",
     "output_type": "stream",
     "text": [
      "\n",
      "iteration 4\n",
      "residual is 114.08\n"
     ]
    },
    {
     "data": {
      "application/vnd.jupyter.widget-view+json": {
       "model_id": "222748c72c844f6dbd2b689b40ca6b26",
       "version_major": 2,
       "version_minor": 0
      },
      "text/plain": [
       "HBox(children=(IntProgress(value=0, max=189172), HTML(value='')))"
      ]
     },
     "metadata": {},
     "output_type": "display_data"
    },
    {
     "name": "stdout",
     "output_type": "stream",
     "text": [
      "\n",
      "iteration 5\n",
      "residual is 34.48\n"
     ]
    },
    {
     "data": {
      "application/vnd.jupyter.widget-view+json": {
       "model_id": "a4ccc80c5cc442dabecd87c55ad71e79",
       "version_major": 2,
       "version_minor": 0
      },
      "text/plain": [
       "HBox(children=(IntProgress(value=0, max=189172), HTML(value='')))"
      ]
     },
     "metadata": {},
     "output_type": "display_data"
    },
    {
     "name": "stdout",
     "output_type": "stream",
     "text": [
      "\n",
      "iteration 6\n",
      "residual is 11.83\n"
     ]
    },
    {
     "data": {
      "application/vnd.jupyter.widget-view+json": {
       "model_id": "3a8c7609d7244fc2a8577f215bbe5174",
       "version_major": 2,
       "version_minor": 0
      },
      "text/plain": [
       "HBox(children=(IntProgress(value=0, max=189172), HTML(value='')))"
      ]
     },
     "metadata": {},
     "output_type": "display_data"
    },
    {
     "name": "stdout",
     "output_type": "stream",
     "text": [
      "\n",
      "iteration 7\n",
      "residual is 4.46\n"
     ]
    },
    {
     "data": {
      "application/vnd.jupyter.widget-view+json": {
       "model_id": "61ea01a2598c4974bdbd9f9fc5f8eb93",
       "version_major": 2,
       "version_minor": 0
      },
      "text/plain": [
       "HBox(children=(IntProgress(value=0, max=189172), HTML(value='')))"
      ]
     },
     "metadata": {},
     "output_type": "display_data"
    },
    {
     "name": "stdout",
     "output_type": "stream",
     "text": [
      "\n",
      "iteration 8\n",
      "residual is 1.84\n"
     ]
    },
    {
     "data": {
      "application/vnd.jupyter.widget-view+json": {
       "model_id": "419d5138e0634f5190d2cded8c9db68b",
       "version_major": 2,
       "version_minor": 0
      },
      "text/plain": [
       "HBox(children=(IntProgress(value=0, max=189172), HTML(value='')))"
      ]
     },
     "metadata": {},
     "output_type": "display_data"
    },
    {
     "name": "stdout",
     "output_type": "stream",
     "text": [
      "\n",
      "iteration 9\n",
      "residual is 0.83\n"
     ]
    },
    {
     "data": {
      "application/vnd.jupyter.widget-view+json": {
       "model_id": "e0e533e37a81484fad1e0f4df08650b2",
       "version_major": 2,
       "version_minor": 0
      },
      "text/plain": [
       "HBox(children=(IntProgress(value=0, max=189172), HTML(value='')))"
      ]
     },
     "metadata": {},
     "output_type": "display_data"
    },
    {
     "name": "stdout",
     "output_type": "stream",
     "text": [
      "\n",
      "iteration 10\n",
      "residual is 0.41\n"
     ]
    },
    {
     "data": {
      "application/vnd.jupyter.widget-view+json": {
       "model_id": "eb1f13e69f47412991d7db3940348b89",
       "version_major": 2,
       "version_minor": 0
      },
      "text/plain": [
       "HBox(children=(IntProgress(value=0, max=189172), HTML(value='')))"
      ]
     },
     "metadata": {},
     "output_type": "display_data"
    },
    {
     "name": "stdout",
     "output_type": "stream",
     "text": [
      "\n",
      "iteration 11\n",
      "residual is 0.22\n"
     ]
    },
    {
     "data": {
      "application/vnd.jupyter.widget-view+json": {
       "model_id": "854b02afe11947c18a4f23f33fb5e742",
       "version_major": 2,
       "version_minor": 0
      },
      "text/plain": [
       "HBox(children=(IntProgress(value=0, max=189172), HTML(value='')))"
      ]
     },
     "metadata": {},
     "output_type": "display_data"
    },
    {
     "name": "stdout",
     "output_type": "stream",
     "text": [
      "\n",
      "iteration 12\n",
      "residual is 0.12\n"
     ]
    },
    {
     "data": {
      "application/vnd.jupyter.widget-view+json": {
       "model_id": "b8e9e92c792949ca90c02e07fd91bbc9",
       "version_major": 2,
       "version_minor": 0
      },
      "text/plain": [
       "HBox(children=(IntProgress(value=0, max=189172), HTML(value='')))"
      ]
     },
     "metadata": {},
     "output_type": "display_data"
    },
    {
     "name": "stdout",
     "output_type": "stream",
     "text": [
      "\n",
      "iteration 13\n",
      "residual is 0.07\n"
     ]
    },
    {
     "data": {
      "image/png": "[encoded data removed]",
      "text/plain": [
       "<Figure size 1080x576 with 1 Axes>"
      ]
     },
     "metadata": {
      "needs_background": "light"
     },
     "output_type": "display_data"
    }
   ],
   "source": [
    "pr = calcPageRank()"
   ]
  },
  {
   "cell_type": "markdown",
   "metadata": {},
   "source": [
    "---\n",
    "###### Сохраним результат"
   ]
  },
  {
   "cell_type": "code",
   "execution_count": 30,
   "metadata": {},
   "outputs": [],
   "source": [
    "page_rank = pd.DataFrame(np.vstack((np.array(list(url_idx.keys())), (pr / pr.max()))).T, columns=['url', 'pageRank'])\n",
    "\n",
    "page_rank = page_rank.sort_values(by='pageRank', ascending=False)"
   ]
  },
  {
   "cell_type": "code",
   "execution_count": 32,
   "metadata": {},
   "outputs": [
    {
     "data": {
      "text/html": [
       "<div>\n",
       "<style scoped>\n",
       "    .dataframe tbody tr th:only-of-type {\n",
       "        vertical-align: middle;\n",
       "    }\n",
       "\n",
       "    .dataframe tbody tr th {\n",
       "        vertical-align: top;\n",
       "    }\n",
       "\n",
       "    .dataframe thead th {\n",
       "        text-align: right;\n",
       "    }\n",
       "</style>\n",
       "<table border=\"1\" class=\"dataframe\">\n",
       "  <thead>\n",
       "    <tr style=\"text-align: right;\">\n",
       "      <th></th>\n",
       "      <th>url</th>\n",
       "      <th>pageRank</th>\n",
       "    </tr>\n",
       "  </thead>\n",
       "  <tbody>\n",
       "    <tr>\n",
       "      <td>0</td>\n",
       "      <td>https://simple.wikipedia.org/wiki/Main_Page</td>\n",
       "      <td>1.0</td>\n",
       "    </tr>\n",
       "    <tr>\n",
       "      <td>610</td>\n",
       "      <td>https://simple.wikipedia.org/wiki/United_States</td>\n",
       "      <td>0.08853799126365515</td>\n",
       "    </tr>\n",
       "    <tr>\n",
       "      <td>140</td>\n",
       "      <td>https://simple.wikipedia.org/wiki/Internationa...</td>\n",
       "      <td>0.07367078407624889</td>\n",
       "    </tr>\n",
       "    <tr>\n",
       "      <td>475</td>\n",
       "      <td>https://simple.wikipedia.org/wiki/France</td>\n",
       "      <td>0.05173466525240726</td>\n",
       "    </tr>\n",
       "    <tr>\n",
       "      <td>1436</td>\n",
       "      <td>https://simple.wikipedia.org/wiki/Americans</td>\n",
       "      <td>0.034994558039275876</td>\n",
       "    </tr>\n",
       "  </tbody>\n",
       "</table>\n",
       "</div>"
      ],
      "text/plain": [
       "                                                    url              pageRank\n",
       "0           https://simple.wikipedia.org/wiki/Main_Page                   1.0\n",
       "610     https://simple.wikipedia.org/wiki/United_States   0.08853799126365515\n",
       "140   https://simple.wikipedia.org/wiki/Internationa...   0.07367078407624889\n",
       "475            https://simple.wikipedia.org/wiki/France   0.05173466525240726\n",
       "1436        https://simple.wikipedia.org/wiki/Americans  0.034994558039275876"
      ]
     },
     "execution_count": 32,
     "metadata": {},
     "output_type": "execute_result"
    }
   ],
   "source": [
    "page_rank.head()"
   ]
  },
  {
   "cell_type": "code",
   "execution_count": 34,
   "metadata": {},
   "outputs": [],
   "source": [
    "page_rank.to_csv('page_rank_simple_wiki.csv', index=False)"
   ]
  },
  {
   "cell_type": "code",
   "execution_count": null,
   "metadata": {},
   "outputs": [],
   "source": []
  }
 ],
 "metadata": {
  "kernelspec": {
   "display_name": "Python 3",
   "language": "python",
   "name": "python3"
  },
  "language_info": {
   "codemirror_mode": {
    "name": "ipython",
    "version": 3
   },
   "file_extension": ".py",
   "mimetype": "text/x-python",
   "name": "python",
   "nbconvert_exporter": "python",
   "pygments_lexer": "ipython3",
   "version": "3.7.4"
  }
 },
 "nbformat": 4,
 "nbformat_minor": 2
}
