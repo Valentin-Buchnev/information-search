{
 "cells": [
  {
   "cell_type": "code",
   "execution_count": 1,
   "metadata": {},
   "outputs": [],
   "source": [
    "import numpy as np\n",
    "import pandas as pd\n",
    "import scipy\n",
    "\n",
    "import tensorflow as tf\n",
    "import tensorflow.keras.layers as L\n",
    "\n",
    "from IPython.display import clear_output\n",
    "import matplotlib.pyplot as plt\n",
    "\n",
    "from transliterate import translit\n",
    "\n",
    "from file_storage import FileStorage\n",
    "\n",
    "from sklearn.preprocessing import LabelEncoder\n",
    "from sklearn.feature_extraction.text import HashingVectorizer\n",
    "from sklearn.feature_extraction.text import CountVectorizer\n",
    "\n",
    "from tqdm import tqdm_notebook\n",
    "\n",
    "import re"
   ]
  },
  {
   "cell_type": "code",
   "execution_count": 2,
   "metadata": {},
   "outputs": [],
   "source": [
    "import os\n",
    "os.environ['CUDA_DEVICE_ORDER'] = 'PCI_BUS_ID'\n",
    "os.environ['CUDA_VISIBLE_DEVICES'] = '2'"
   ]
  },
  {
   "cell_type": "markdown",
   "metadata": {},
   "source": [
    "---\n",
    "\n",
    "###### Переведем все запросы в нижний регистр и выкинем запросы на языках, отличных от русского и английского, а также транслитерируем запросы на русском языке. \n",
    "\n",
    "###### Также извлечем название статьи"
   ]
  },
  {
   "cell_type": "code",
   "execution_count": 3,
   "metadata": {},
   "outputs": [
    {
     "name": "stdout",
     "output_type": "stream",
     "text": [
      "CPU times: user 18.8 s, sys: 94.3 ms, total: 18.9 s\n",
      "Wall time: 18.9 s\n"
     ]
    }
   ],
   "source": [
    "%%time\n",
    "\n",
    "train_data = pd.read_csv('req_ans_learn.tsv', sep='\\t', names=['query', 'document'])\n",
    "\n",
    "train_data['query'] = train_data['query'].apply(lambda x: \" \".join(re.sub('[^a-zA-Zа-яА-Я0-9ёЁ]+', ' ', str(x)).split()).lower())\n",
    "train_data = train_data[train_data['query'] != '']\n",
    "train_data['query'] = train_data['query'].apply(lambda x: translit(x, 'ru', reversed=True))\n",
    "\n",
    "train_data['document'] = train_data['document'].apply(lambda x: x.split('/')[-1].lower())"
   ]
  },
  {
   "cell_type": "code",
   "execution_count": 4,
   "metadata": {},
   "outputs": [
    {
     "data": {
      "text/html": [
       "<div>\n",
       "<style scoped>\n",
       "    .dataframe tbody tr th:only-of-type {\n",
       "        vertical-align: middle;\n",
       "    }\n",
       "\n",
       "    .dataframe tbody tr th {\n",
       "        vertical-align: top;\n",
       "    }\n",
       "\n",
       "    .dataframe thead th {\n",
       "        text-align: right;\n",
       "    }\n",
       "</style>\n",
       "<table border=\"1\" class=\"dataframe\">\n",
       "  <thead>\n",
       "    <tr style=\"text-align: right;\">\n",
       "      <th></th>\n",
       "      <th>query</th>\n",
       "      <th>document</th>\n",
       "    </tr>\n",
       "  </thead>\n",
       "  <tbody>\n",
       "    <tr>\n",
       "      <td>1</td>\n",
       "      <td>data integrity chto eto</td>\n",
       "      <td>data_integrity</td>\n",
       "    </tr>\n",
       "    <tr>\n",
       "      <td>2</td>\n",
       "      <td>a harmonious rejuvenation add to your retreat ...</td>\n",
       "      <td>balmoral_castle</td>\n",
       "    </tr>\n",
       "    <tr>\n",
       "      <td>3</td>\n",
       "      <td>can can</td>\n",
       "      <td>can-can</td>\n",
       "    </tr>\n",
       "    <tr>\n",
       "      <td>4</td>\n",
       "      <td>all the quiet</td>\n",
       "      <td>all_quiet_on_the_western_front</td>\n",
       "    </tr>\n",
       "    <tr>\n",
       "      <td>5</td>\n",
       "      <td>liliaceae tulipa lord beaconsfield parmesiano</td>\n",
       "      <td>liliaceae</td>\n",
       "    </tr>\n",
       "  </tbody>\n",
       "</table>\n",
       "</div>"
      ],
      "text/plain": [
       "                                               query  \\\n",
       "1                            data integrity chto eto   \n",
       "2  a harmonious rejuvenation add to your retreat ...   \n",
       "3                                            can can   \n",
       "4                                      all the quiet   \n",
       "5      liliaceae tulipa lord beaconsfield parmesiano   \n",
       "\n",
       "                         document  \n",
       "1                  data_integrity  \n",
       "2                 balmoral_castle  \n",
       "3                         can-can  \n",
       "4  all_quiet_on_the_western_front  \n",
       "5                       liliaceae  "
      ]
     },
     "execution_count": 4,
     "metadata": {},
     "output_type": "execute_result"
    }
   ],
   "source": [
    "train_data.head()"
   ]
  },
  {
   "cell_type": "markdown",
   "metadata": {},
   "source": [
    "---\n",
    "###### Добавим к обучающей выборки все найденные статьи из первой домашки"
   ]
  },
  {
   "cell_type": "code",
   "execution_count": 5,
   "metadata": {},
   "outputs": [],
   "source": [
    "queries = []\n",
    "documents = []\n",
    "\n",
    "fs = FileStorage('storage')\n",
    "for key in list(fs.keys()):\n",
    "    d = key.split('/')[-1]\n",
    "    queries.append(d.replace('_', ' '))\n",
    "    documents.append(d)\n",
    "    \n",
    "queries = np.asarray(queries)\n",
    "documents = np.asarray(documents)\n",
    "    \n",
    "train_data_add = pd.DataFrame(np.vstack((queries, documents)).T, columns=['query', 'document'])\n",
    "\n",
    "train_data = train_data.append(train_data_add, ignore_index=True)"
   ]
  },
  {
   "cell_type": "markdown",
   "metadata": {},
   "source": [
    "---\n",
    "###### Подсчитаем вектор частот триграмм символов и вектор частот слов (для запросов и документов)"
   ]
  },
  {
   "cell_type": "code",
   "execution_count": 6,
   "metadata": {},
   "outputs": [],
   "source": [
    "class Vectorizer:\n",
    "    def __init__(self, vectorizers):\n",
    "        self.vectorizers = vectorizers\n",
    "    \n",
    "    def fit(self, X):\n",
    "        for vectorizer in self.vectorizers:\n",
    "            vectorizer.fit(X)\n",
    "    \n",
    "    def transform(self, X):\n",
    "        vec = []\n",
    "        for v in self.vectorizers:\n",
    "            vec.append(v.transform(X))\n",
    "        return scipy.sparse.hstack(vec).tocsr()"
   ]
  },
  {
   "cell_type": "code",
   "execution_count": 7,
   "metadata": {},
   "outputs": [],
   "source": [
    "q_vec = Vectorizer([\n",
    "    CountVectorizer(\n",
    "        lowercase=True,\n",
    "        ngram_range=(3, 3),\n",
    "        max_features=20000,\n",
    "        analyzer='char'\n",
    "    ),\n",
    "    CountVectorizer(\n",
    "        lowercase=True,\n",
    "        ngram_range=(1, 1),\n",
    "        max_features=10000,\n",
    "        analyzer='word'\n",
    "    )\n",
    "])\n",
    "\n",
    "d_vec = Vectorizer([\n",
    "    CountVectorizer(\n",
    "        lowercase=True,\n",
    "        ngram_range=(3, 3),\n",
    "        max_features=20000,\n",
    "        analyzer='char'\n",
    "    ),\n",
    "    CountVectorizer(\n",
    "        lowercase=True,\n",
    "        ngram_range=(1, 1),\n",
    "        max_features=10000,\n",
    "        analyzer='word'\n",
    "    )\n",
    "])\n",
    "\n",
    "q_vec.fit(train_data['query'].to_numpy())\n",
    "d_vec.fit(train_data['document'].to_numpy())\n",
    "\n",
    "train_q_vec = q_vec.transform(train_data['query'].to_numpy())\n",
    "train_d_vec = d_vec.transform(train_data['document'].to_numpy())"
   ]
  },
  {
   "cell_type": "markdown",
   "metadata": {},
   "source": [
    "---\n",
    "###### Для простоты переведем все целевые переменные (документы) в числа "
   ]
  },
  {
   "cell_type": "code",
   "execution_count": 8,
   "metadata": {},
   "outputs": [],
   "source": [
    "labels = LabelEncoder().fit_transform(train_data['document'].to_numpy())"
   ]
  },
  {
   "cell_type": "markdown",
   "metadata": {},
   "source": [
    "---\n",
    "###### Архитектура сети взята из статьи по DSSM"
   ]
  },
  {
   "cell_type": "code",
   "execution_count": 9,
   "metadata": {},
   "outputs": [],
   "source": [
    "def build_model():\n",
    "    return tf.keras.Sequential([\n",
    "        L.Dense(1024, activation='relu'),\n",
    "        L.BatchNormalization(),\n",
    "        L.Dropout(0.1),\n",
    "        L.Dense(512,  activation='relu'),\n",
    "        L.BatchNormalization(),\n",
    "        L.Dropout(0.1),\n",
    "        L.Dense(128,  activation='linear'),\n",
    "        tf.keras.layers.Lambda(lambda x: tf.math.l2_normalize(x, axis=1))\n",
    "    ])"
   ]
  },
  {
   "cell_type": "markdown",
   "metadata": {},
   "source": [
    "---\n",
    "###### Напишем функцию ошибки"
   ]
  },
  {
   "cell_type": "code",
   "execution_count": 10,
   "metadata": {},
   "outputs": [],
   "source": [
    "def calc_loss(batch_q, batch_d, batch_l, gamma=3.0):\n",
    "    \n",
    "    cosines = tf.matmul(batch_q, batch_d, transpose_b=True)\n",
    "    exp_pos = tf.exp(gamma * tf.linalg.diag_part(cosines))\n",
    "    \n",
    "    cosines = tf.where(tf.math.equal(batch_l[:, None], batch_l[None, :]), -1000, cosines)\n",
    "    \n",
    "    cosines = tf.sort(cosines, axis=-1, direction='DESCENDING')\n",
    "    exp_neg = tf.exp(gamma * cosines[:, :20])\n",
    "    \n",
    "    return -tf.math.log(exp_pos / (exp_pos + tf.reduce_sum(exp_neg, axis=-1)))"
   ]
  },
  {
   "cell_type": "markdown",
   "metadata": {},
   "source": [
    "---\n",
    "###### Процесс обучения"
   ]
  },
  {
   "cell_type": "code",
   "execution_count": 11,
   "metadata": {},
   "outputs": [
    {
     "data": {
      "application/vnd.jupyter.widget-view+json": {
       "model_id": "5bfc9bc568614316a80086a0c5be7010",
       "version_major": 2,
       "version_minor": 0
      },
      "text/plain": [
       "HBox(children=(IntProgress(value=0, max=5), HTML(value='')))"
      ]
     },
     "metadata": {},
     "output_type": "display_data"
    },
    {
     "name": "stdout",
     "output_type": "stream",
     "text": [
      "epoch 1\n"
     ]
    },
    {
     "data": {
      "application/vnd.jupyter.widget-view+json": {
       "model_id": "b9eeac58b65c4ecdaf3bfce54f00c55f",
       "version_major": 2,
       "version_minor": 0
      },
      "text/plain": [
       "HBox(children=(IntProgress(value=0, max=665), HTML(value='')))"
      ]
     },
     "metadata": {},
     "output_type": "display_data"
    },
    {
     "name": "stdout",
     "output_type": "stream",
     "text": [
      "\n",
      "loss: 2.07\n",
      "epoch 2\n"
     ]
    },
    {
     "data": {
      "application/vnd.jupyter.widget-view+json": {
       "model_id": "22d5578f4fcf49c9a565fe980bea050d",
       "version_major": 2,
       "version_minor": 0
      },
      "text/plain": [
       "HBox(children=(IntProgress(value=0, max=665), HTML(value='')))"
      ]
     },
     "metadata": {},
     "output_type": "display_data"
    },
    {
     "name": "stdout",
     "output_type": "stream",
     "text": [
      "\n",
      "loss: 1.63\n",
      "epoch 3\n"
     ]
    },
    {
     "data": {
      "application/vnd.jupyter.widget-view+json": {
       "model_id": "8b71c304ca3a4ba384a19f9ca3cdda79",
       "version_major": 2,
       "version_minor": 0
      },
      "text/plain": [
       "HBox(children=(IntProgress(value=0, max=665), HTML(value='')))"
      ]
     },
     "metadata": {},
     "output_type": "display_data"
    },
    {
     "name": "stdout",
     "output_type": "stream",
     "text": [
      "\n",
      "loss: 1.54\n",
      "epoch 4\n"
     ]
    },
    {
     "data": {
      "application/vnd.jupyter.widget-view+json": {
       "model_id": "e54ba26b1253479abbca87fdd8f2fdaf",
       "version_major": 2,
       "version_minor": 0
      },
      "text/plain": [
       "HBox(children=(IntProgress(value=0, max=665), HTML(value='')))"
      ]
     },
     "metadata": {},
     "output_type": "display_data"
    },
    {
     "name": "stdout",
     "output_type": "stream",
     "text": [
      "\n",
      "loss: 1.48\n",
      "epoch 5\n"
     ]
    },
    {
     "data": {
      "application/vnd.jupyter.widget-view+json": {
       "model_id": "a964bc85c0ac4cc2aa2fcb1bbe4aeb80",
       "version_major": 2,
       "version_minor": 0
      },
      "text/plain": [
       "HBox(children=(IntProgress(value=0, max=665), HTML(value='')))"
      ]
     },
     "metadata": {},
     "output_type": "display_data"
    },
    {
     "name": "stdout",
     "output_type": "stream",
     "text": [
      "\n",
      "loss: 1.45\n",
      "\n"
     ]
    }
   ],
   "source": [
    "q_model = build_model()\n",
    "d_model = build_model()\n",
    "\n",
    "BATCH_SIZE = 1024\n",
    "\n",
    "optimizer = tf.keras.optimizers.Adam(0.001)\n",
    "\n",
    "for epoch in tqdm_notebook(range(5)):\n",
    "    print('epoch %d' % (epoch + 1))\n",
    "    \n",
    "    loss_hist = []\n",
    "    \n",
    "    for i in tqdm_notebook(range(0, len(labels), BATCH_SIZE)):\n",
    "        batch_q_vec = train_q_vec[i : (i + BATCH_SIZE)].toarray().astype(np.float32)\n",
    "        batch_d_vec = train_d_vec[i : (i + BATCH_SIZE)].toarray().astype(np.float32)\n",
    "        batch_l = labels[i : (i + BATCH_SIZE)]\n",
    "\n",
    "        with tf.GradientTape() as tape:\n",
    "            batch_q_emb = q_model(batch_q_vec)\n",
    "            batch_d_emb = d_model(batch_d_vec)\n",
    "\n",
    "            loss = calc_loss(batch_q_emb, batch_d_emb, batch_l)\n",
    "            \n",
    "            loss_hist.append(loss.numpy().mean())\n",
    "\n",
    "            grads = tape.gradient(loss, q_model.trainable_variables + d_model.trainable_variables)\n",
    "            optimizer.apply_gradients(zip(grads, q_model.trainable_variables + d_model.trainable_variables))\n",
    "            \n",
    "    print('loss: %.2f' % np.mean(loss_hist))"
   ]
  },
  {
   "cell_type": "markdown",
   "metadata": {},
   "source": [
    "---\n",
    "###### Проведем преобразования для тестовой выборки"
   ]
  },
  {
   "cell_type": "code",
   "execution_count": 15,
   "metadata": {},
   "outputs": [],
   "source": [
    "test_data = pd.read_csv('req_ans_test_no_url.csv', sep=',')\n",
    "test_data['Category'] = test_data['Category'].apply(lambda x: \" \".join(re.sub('[^a-zA-Zа-яА-Я0-9ёЁ]+', ' ', str(x)).split()).lower())\n",
    "test_data['Category'] = test_data['Category'].apply(lambda x: translit(x, 'ru', reversed=True))"
   ]
  },
  {
   "cell_type": "code",
   "execution_count": 16,
   "metadata": {},
   "outputs": [
    {
     "data": {
      "text/html": [
       "<div>\n",
       "<style scoped>\n",
       "    .dataframe tbody tr th:only-of-type {\n",
       "        vertical-align: middle;\n",
       "    }\n",
       "\n",
       "    .dataframe tbody tr th {\n",
       "        vertical-align: top;\n",
       "    }\n",
       "\n",
       "    .dataframe thead th {\n",
       "        text-align: right;\n",
       "    }\n",
       "</style>\n",
       "<table border=\"1\" class=\"dataframe\">\n",
       "  <thead>\n",
       "    <tr style=\"text-align: right;\">\n",
       "      <th></th>\n",
       "      <th>Id</th>\n",
       "      <th>Category</th>\n",
       "    </tr>\n",
       "  </thead>\n",
       "  <tbody>\n",
       "    <tr>\n",
       "      <td>0</td>\n",
       "      <td>1</td>\n",
       "      <td>there are two rivers in the city the selenga</td>\n",
       "    </tr>\n",
       "    <tr>\n",
       "      <td>1</td>\n",
       "      <td>2</td>\n",
       "      <td>biriani spice</td>\n",
       "    </tr>\n",
       "    <tr>\n",
       "      <td>2</td>\n",
       "      <td>3</td>\n",
       "      <td>bernli komanda</td>\n",
       "    </tr>\n",
       "    <tr>\n",
       "      <td>3</td>\n",
       "      <td>4</td>\n",
       "      <td>he 114</td>\n",
       "    </tr>\n",
       "    <tr>\n",
       "      <td>4</td>\n",
       "      <td>5</td>\n",
       "      <td>vikipedija pro megatrona iz kino 3 vikipedija</td>\n",
       "    </tr>\n",
       "  </tbody>\n",
       "</table>\n",
       "</div>"
      ],
      "text/plain": [
       "   Id                                       Category\n",
       "0   1   there are two rivers in the city the selenga\n",
       "1   2                                  biriani spice\n",
       "2   3                                 bernli komanda\n",
       "3   4                                         he 114\n",
       "4   5  vikipedija pro megatrona iz kino 3 vikipedija"
      ]
     },
     "execution_count": 16,
     "metadata": {},
     "output_type": "execute_result"
    }
   ],
   "source": [
    "test_data.head()"
   ]
  },
  {
   "cell_type": "markdown",
   "metadata": {},
   "source": [
    "---\n",
    "###### Получим эмбеддинги для запросов и документов"
   ]
  },
  {
   "cell_type": "code",
   "execution_count": 21,
   "metadata": {},
   "outputs": [],
   "source": [
    "test_q_vec = q_vec.transform(test_data['Category'].to_numpy())"
   ]
  },
  {
   "cell_type": "code",
   "execution_count": 31,
   "metadata": {},
   "outputs": [
    {
     "data": {
      "application/vnd.jupyter.widget-view+json": {
       "model_id": "c3e4744edede4bd1816d7b6712dc26ef",
       "version_major": 2,
       "version_minor": 0
      },
      "text/plain": [
       "HBox(children=(IntProgress(value=0, max=139), HTML(value='')))"
      ]
     },
     "metadata": {},
     "output_type": "display_data"
    },
    {
     "name": "stdout",
     "output_type": "stream",
     "text": [
      "\n"
     ]
    }
   ],
   "source": [
    "test_q_emb = []\n",
    "\n",
    "for i in tqdm_notebook(range(0, test_q_vec.shape[0], BATCH_SIZE)):\n",
    "    test_q_emb.append(q_model(test_q_vec[i:i + BATCH_SIZE].toarray(), training=False).numpy())\n",
    "\n",
    "test_q_emb = np.concatenate(test_q_emb, axis=0)"
   ]
  },
  {
   "cell_type": "code",
   "execution_count": 38,
   "metadata": {},
   "outputs": [],
   "source": [
    "test_d_vec = d_vec.transform(documents)"
   ]
  },
  {
   "cell_type": "code",
   "execution_count": 40,
   "metadata": {},
   "outputs": [
    {
     "data": {
      "application/vnd.jupyter.widget-view+json": {
       "model_id": "003cfadde47f476e9008c234f7b2e42d",
       "version_major": 2,
       "version_minor": 0
      },
      "text/plain": [
       "HBox(children=(IntProgress(value=0, max=185), HTML(value='')))"
      ]
     },
     "metadata": {},
     "output_type": "display_data"
    },
    {
     "name": "stdout",
     "output_type": "stream",
     "text": [
      "\n"
     ]
    }
   ],
   "source": [
    "test_d_emb = []\n",
    "\n",
    "for i in tqdm_notebook(range(0, test_d_vec.shape[0], BATCH_SIZE)):\n",
    "    test_d_emb.append(d_model(test_d_vec[i:(i + BATCH_SIZE)].toarray(), training=False).numpy())\n",
    "\n",
    "test_d_emb = np.concatenate(test_d_emb, axis=0)"
   ]
  },
  {
   "cell_type": "markdown",
   "metadata": {},
   "source": [
    "---\n",
    "###### Получим предсказания для теста"
   ]
  },
  {
   "cell_type": "code",
   "execution_count": 57,
   "metadata": {},
   "outputs": [
    {
     "data": {
      "application/vnd.jupyter.widget-view+json": {
       "model_id": "26e8fefe2f8b4e9889326c3478ea7be8",
       "version_major": 2,
       "version_minor": 0
      },
      "text/plain": [
       "HBox(children=(IntProgress(value=1, bar_style='info', max=1), HTML(value='')))"
      ]
     },
     "metadata": {},
     "output_type": "display_data"
    },
    {
     "name": "stdout",
     "output_type": "stream",
     "text": [
      "\n"
     ]
    }
   ],
   "source": [
    "ans = []\n",
    "\n",
    "for i, q in tqdm_notebook(enumerate(test_data['Category'])):\n",
    "    cosines = test_q_emb[i] @ test_d_emb.T\n",
    "    ans.append('/wiki/' + documents[np.argmax(cosines)])\n",
    "    \n",
    "test_data['Category'] = ans"
   ]
  },
  {
   "cell_type": "markdown",
   "metadata": {},
   "source": [
    "---\n",
    "###### Сохраним предсказания"
   ]
  },
  {
   "cell_type": "code",
   "execution_count": 60,
   "metadata": {},
   "outputs": [],
   "source": [
    "test_data.to_csv('test_documents.csv', index=False)"
   ]
  },
  {
   "cell_type": "markdown",
   "metadata": {},
   "source": [
    "---\n",
    "###### Данное решение получило 62.7% accuracy на тестовой выборке"
   ]
  }
 ],
 "metadata": {
  "kernelspec": {
   "display_name": "Python 3",
   "language": "python",
   "name": "python3"
  },
  "language_info": {
   "codemirror_mode": {
    "name": "ipython",
    "version": 3
   },
   "file_extension": ".py",
   "mimetype": "text/x-python",
   "name": "python",
   "nbconvert_exporter": "python",
   "pygments_lexer": "ipython3",
   "version": "3.7.4"
  }
 },
 "nbformat": 4,
 "nbformat_minor": 2
}
